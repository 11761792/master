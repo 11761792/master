{
 "cells": [
  {
   "cell_type": "code",
   "execution_count": 3,
   "metadata": {
    "collapsed": true
   },
   "outputs": [],
   "source": [
    "%matplotlib inline\n",
    "from preamble import *\n",
    "plt.rcParams['savefig.dpi'] = 100 # This controls the size of your figures\n",
    "# Comment out and restart notebook if you only want the last output of each cell.\n",
    "InteractiveShell.ast_node_interactivity = \"all\" "
   ]
  },
  {
   "cell_type": "code",
   "execution_count": 6,
   "metadata": {
    "collapsed": false
   },
   "outputs": [
    {
     "name": "stdout",
     "output_type": "stream",
     "text": [
      "(3751, 1776) (3751,)\n"
     ]
    },
    {
     "data": {
      "text/plain": [
       "0.87529794823217766"
      ]
     },
     "execution_count": 6,
     "metadata": {},
     "output_type": "execute_result"
    },
    {
     "name": "stdout",
     "output_type": "stream",
     "text": [
      "Uploaded run with id 1852504. Check it at www.openml.org/r/1852504\n"
     ]
    }
   ],
   "source": [
    "from sklearn.ensemble import RandomForestClassifier\n",
    "from sklearn.model_selection import train_test_split\n",
    "from numpy import mean\n",
    "from openml import tasks,runs,datasets\n",
    "from sklearn.model_selection import GridSearchCV\n",
    "from sklearn.model_selection import cross_val_score\n",
    "\n",
    "# Download task, run learner, publish results\n",
    "task = tasks.get_task(145677)\n",
    "dataset = task.get_dataset()\n",
    "X, y, categorical = dataset.get_data(target=dataset.default_target_attribute,return_categorical_indicator=True)\n",
    "print(X.shape, y.shape)\n",
    "\n",
    "clf = RandomForestClassifier(n_estimators=64,warm_start=True,n_jobs=-1)\n",
    "\n",
    "scores = cross_val_score(clf,X,y,cv=10,scoring=\"roc_auc\",n_jobs=-1)\n",
    "mean(scores)\n",
    "\n",
    "run = runs.run_task(task, clf)\n",
    "p = run.publish()\n",
    "print(\"Uploaded run with id %s. Check it at www.openml.org/r/%s\" %(run.run_id,run.run_id))"
   ]
  },
  {
   "cell_type": "code",
   "execution_count": 8,
   "metadata": {
    "collapsed": false
   },
   "outputs": [
    {
     "name": "stdout",
     "output_type": "stream",
     "text": [
      "Uploaded run 1 with id 1852507. Check it at www.openml.org/r/1852507\n",
      "Uploaded run 1 with id 1852508. Check it at www.openml.org/r/1852508\n"
     ]
    }
   ],
   "source": [
    "from sklearn.ensemble import RandomForestClassifier\n",
    "from openml import tasks,runs,datasets\n",
    "\n",
    "# Download task, run learner, publish results\n",
    "task = tasks.get_task(145677)\n",
    "\n",
    "clfs = [RandomForestClassifier(n_estimators=64,warm_start=True,n_jobs=-1),\n",
    "        RandomForestClassifier(n_estimators=64,warm_start=False,n_jobs=-1)]\n",
    "\n",
    "for clf in clfs:\n",
    "    run = runs.run_task(task, clf)\n",
    "    p = run.publish()\n",
    "    print(\"Uploaded run 1 with id %s. Check it at www.openml.org/r/%s\" %(run.run_id,run.run_id))"
   ]
  },
  {
   "cell_type": "code",
   "execution_count": 12,
   "metadata": {
    "collapsed": false
   },
   "outputs": [
    {
     "name": "stdout",
     "output_type": "stream",
     "text": [
      "10xCV Score (AUC): 0.87225053074\n",
      "10xCV Score (AUC): 0.87225053074\n"
     ]
    }
   ],
   "source": [
    "task = tasks.get_task(145677)\n",
    "dataset = task.get_dataset()\n",
    "X, y, categorical = dataset.get_data(target=dataset.default_target_attribute,return_categorical_indicator=True)\n",
    "\n",
    "clfs = [RandomForestClassifier(n_estimators=64,warm_start=True,n_jobs=-1),\n",
    "        RandomForestClassifier(n_estimators=64,warm_start=False,n_jobs=-1)]\n",
    "\n",
    "for clf in clfs:    \n",
    "    scores = cross_val_score(clf,X,y,cv=10,scoring=\"roc_auc\",n_jobs=-1)\n",
    "    scores = cross_val_score(clf,X,y,cv=10,scoring=\"roc_auc\",n_jobs=-1)\n",
    "    print(\"10xCV Score (AUC): %s\" %(np.mean(scores)))"
   ]
  },
  {
   "cell_type": "code",
   "execution_count": null,
   "metadata": {
    "collapsed": true
   },
   "outputs": [],
   "source": []
  }
 ],
 "metadata": {
  "anaconda-cloud": {},
  "kernelspec": {
   "display_name": "Python [default]",
   "language": "python",
   "name": "python3"
  },
  "language_info": {
   "codemirror_mode": {
    "name": "ipython",
    "version": 3
   },
   "file_extension": ".py",
   "mimetype": "text/x-python",
   "name": "python",
   "nbconvert_exporter": "python",
   "pygments_lexer": "ipython3",
   "version": "3.5.2"
  }
 },
 "nbformat": 4,
 "nbformat_minor": 2
}
